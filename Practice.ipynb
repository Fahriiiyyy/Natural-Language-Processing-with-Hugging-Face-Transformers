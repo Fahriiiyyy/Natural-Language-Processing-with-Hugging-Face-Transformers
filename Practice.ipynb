{
 "cells": [
  {
   "cell_type": "code",
   "execution_count": 1,
   "id": "ce6108b9-f219-48cc-95a7-bd934f9140e1",
   "metadata": {
    "tags": []
   },
   "outputs": [
    {
     "name": "stdout",
     "output_type": "stream",
     "text": [
      "Could not solve for environment specs\n",
      "The following packages are incompatible\n",
      "├─ \u001b[32mmatplotlib 3.5.0 \u001b[0m is installable with the potential options\n",
      "│  ├─ \u001b[32mmatplotlib [2.2.2|3.1.2|...|3.5.3]\u001b[0m would require\n",
      "│  │  ├─ \u001b[32mmatplotlib-base [>=3.3.2,<3.3.3.0a0 |>=3.3.4,<3.3.5.0a0 |...|>=3.5.3,<3.5.4.0a0 ]\u001b[0m with the potential options\n",
      "│  │  │  ├─ \u001b[32mmatplotlib-base [3.5.0|3.5.1|3.5.2]\u001b[0m would require\n",
      "│  │  │  │  └─ \u001b[32mfreetype >=2.11.0,<3.0a0 \u001b[0m, which can be installed;\n",
      "│  │  │  ├─ \u001b[32mmatplotlib-base [3.5.0|3.5.1|3.5.2|3.5.3]\u001b[0m would require\n",
      "│  │  │  │  └─ \u001b[32mpython >=3.10,<3.11.0a0 \u001b[0m, which can be installed;\n",
      "│  │  │  ├─ \u001b[32mmatplotlib-base [3.3.2|3.3.4|...|3.5.3]\u001b[0m would require\n",
      "│  │  │  │  └─ \u001b[32mpython >=3.8,<3.9.0a0 \u001b[0m, which can be installed;\n",
      "│  │  │  ├─ \u001b[32mmatplotlib-base [3.3.2|3.3.4|...|3.5.3]\u001b[0m would require\n",
      "│  │  │  │  └─ \u001b[32mpython >=3.9,<3.10.0a0 \u001b[0m, which can be installed;\n",
      "│  │  │  ├─ \u001b[32mmatplotlib-base 3.5.3\u001b[0m would require\n",
      "│  │  │  │  └─ \u001b[32mfreetype >=2.12.1,<3.0a0 \u001b[0m, which can be installed;\n",
      "│  │  │  ├─ \u001b[32mmatplotlib-base [3.3.2|3.3.4|3.4.2|3.4.3]\u001b[0m would require\n",
      "│  │  │  │  └─ \u001b[32mfreetype >=2.10.4,<3.0a0 \u001b[0m, which can be installed;\n",
      "│  │  │  └─ \u001b[32mmatplotlib-base [3.3.2|3.3.4]\u001b[0m would require\n",
      "│  │  │     └─ \u001b[32mpython >=3.6,<3.7.0a0 \u001b[0m, which can be installed;\n",
      "│  │  └─ \u001b[32mpyqt [ |>=5.6,<6.0a0 ]\u001b[0m with the potential options\n",
      "│  │     ├─ \u001b[32mpyqt [5.15.10|5.15.7|5.9.2]\u001b[0m would require\n",
      "│  │     │  └─ \u001b[32mpython >=3.10,<3.11.0a0 \u001b[0m, which can be installed;\n",
      "│  │     ├─ \u001b[32mpyqt [5.15.10|5.15.7]\u001b[0m would require\n",
      "│  │     │  └─ \u001b[32mpython >=3.11,<3.12.0a0 \u001b[0m, which can be installed;\n",
      "│  │     ├─ \u001b[32mpyqt 5.15.10\u001b[0m would require\n",
      "│  │     │  └─ \u001b[32mpython >=3.12,<3.13.0a0 \u001b[0m, which can be installed;\n",
      "│  │     ├─ \u001b[32mpyqt [5.15.10|5.15.7|5.9.2]\u001b[0m would require\n",
      "│  │     │  └─ \u001b[32mpython >=3.8,<3.9.0a0 \u001b[0m, which can be installed;\n",
      "│  │     ├─ \u001b[32mpyqt [5.15.10|5.15.7|5.9.2]\u001b[0m would require\n",
      "│  │     │  └─ \u001b[32mpython >=3.9,<3.10.0a0 \u001b[0m, which can be installed;\n",
      "│  │     ├─ \u001b[32mpyqt 5.15.7\u001b[0m would require\n",
      "│  │     │  ├─ \u001b[32mqt-main >=5.15.2,<5.16.0a0 \u001b[0m with the potential options\n",
      "│  │     │  │  ├─ \u001b[32mqt-main 5.15.2\u001b[0m would require\n",
      "│  │     │  │  │  ├─ \u001b[32mfreetype >=2.10.4,<3.0a0 \u001b[0m, which can be installed;\n",
      "│  │     │  │  │  ├─ \u001b[32micu >=73.1,<74.0a0 \u001b[0m, which can be installed;\n",
      "│  │     │  │  │  └─ \u001b[32mopenssl >=1.1.1v,<1.1.2a \u001b[0m, which can be installed;\n",
      "│  │     │  │  ├─ \u001b[32mqt-main 5.15.2\u001b[0m would require\n",
      "│  │     │  │  │  ├─ \u001b[32mfreetype >=2.10.4,<3.0a0 \u001b[0m, which can be installed;\n",
      "│  │     │  │  │  └─ \u001b[32micu >=58.2,<59.0a0 \u001b[0m, which can be installed;\n",
      "│  │     │  │  ├─ \u001b[31mqt-main 5.15.2\u001b[0m would require\n",
      "│  │     │  │  │  └─ \u001b[31mopenssl >=3.0.10,<4.0a0 \u001b[0m, which conflicts with any installable versions previously reported;\n",
      "│  │     │  │  ├─ \u001b[32mqt-main 5.15.2\u001b[0m would require\n",
      "│  │     │  │  │  ├─ \u001b[32mfreetype >=2.10.4,<3.0a0 \u001b[0m, which can be installed;\n",
      "│  │     │  │  │  ├─ \u001b[32micu >=58.2,<59.0a0 \u001b[0m, which can be installed;\n",
      "│  │     │  │  │  └─ \u001b[32mopenssl >=1.1.1u,<1.1.2a \u001b[0m, which can be installed;\n",
      "│  │     │  │  ├─ \u001b[31mqt-main 5.15.2\u001b[0m would require\n",
      "│  │     │  │  │  └─ \u001b[31mopenssl >=3.0.9,<4.0a0 \u001b[0m, which conflicts with any installable versions previously reported;\n",
      "│  │     │  │  └─ \u001b[32mqt-main 5.15.2\u001b[0m would require\n",
      "│  │     │  │     ├─ \u001b[32mfreetype >=2.10.4,<3.0a0 \u001b[0m, which can be installed;\n",
      "│  │     │  │     ├─ \u001b[32micu >=58.2,<59.0a0 \u001b[0m, which can be installed;\n",
      "│  │     │  │     └─ \u001b[32mopenssl >=1.1.1t,<1.1.2a \u001b[0m, which can be installed;\n",
      "│  │     │  ├─ \u001b[32mqt-webengine >=5.15.9,<5.16.0a0 \u001b[0m with the potential options\n",
      "│  │     │  │  ├─ \u001b[32mqt-webengine 5.15.9\u001b[0m would require\n",
      "│  │     │  │  │  └─ \u001b[32mqt >=5.15.2,<6 \u001b[0m, which can be installed;\n",
      "│  │     │  │  └─ \u001b[32mqt-webengine 5.15.9\u001b[0m would require\n",
      "│  │     │  │     └─ \u001b[32mqt 5.15.9 \u001b[0m, which can be installed;\n",
      "│  │     │  └─ \u001b[32mqtwebkit 5.* \u001b[0m with the potential options\n",
      "│  │     │     ├─ \u001b[32mqtwebkit 5.212\u001b[0m would require\n",
      "│  │     │     │  └─ \u001b[32mlibwebp-base >=1.2.4,<2.0a0 \u001b[0m with the potential options\n",
      "│  │     │     │     ├─ \u001b[32mlibwebp-base 1.2.4\u001b[0m would require\n",
      "│  │     │     │     │  └─ \u001b[32mlibwebp 1.2.4 \u001b[0m, which can be installed;\n",
      "│  │     │     │     └─ \u001b[32mlibwebp-base 1.3.2\u001b[0m would require\n",
      "│  │     │     │        └─ \u001b[32mlibwebp 1.3.2 \u001b[0m, which can be installed;\n",
      "│  │     │     └─ \u001b[32mqtwebkit 5.212\u001b[0m would require\n",
      "│  │     │        └─ \u001b[32mlibwebp >=1.2.0,<1.3.0a0 \u001b[0m, which can be installed;\n",
      "│  │     ├─ \u001b[32mpyqt [5.6.0|5.9.2]\u001b[0m would require\n",
      "│  │     │  └─ \u001b[32mpython >=2.7,<2.8.0a0 \u001b[0m, which can be installed;\n",
      "│  │     ├─ \u001b[32mpyqt [5.6.0|5.9.2]\u001b[0m would require\n",
      "│  │     │  └─ \u001b[32mpython >=3.5,<3.6.0a0 \u001b[0m, which can be installed;\n",
      "│  │     ├─ \u001b[32mpyqt [5.6.0|5.9.2]\u001b[0m would require\n",
      "│  │     │  └─ \u001b[32mpython >=3.6,<3.7.0a0 \u001b[0m, which can be installed;\n",
      "│  │     └─ \u001b[32mpyqt [5.6.0|5.9.2]\u001b[0m would require\n",
      "│  │        └─ \u001b[32mqt [5.6.* |5.9.* ]\u001b[0m with the potential options\n",
      "│  │           ├─ \u001b[31mqt [5.6.2|5.9.4|5.9.5]\u001b[0m would require\n",
      "│  │           │  └─ \u001b[31mopenssl 1.0.* \u001b[0m, which conflicts with any installable versions previously reported;\n",
      "│  │           ├─ \u001b[31mqt 5.6.2\u001b[0m would require\n",
      "│  │           │  └─ \u001b[31mopenssl >=1.0.2n,<1.0.3a \u001b[0m, which conflicts with any installable versions previously reported;\n",
      "│  │           ├─ \u001b[31mqt 5.6.3\u001b[0m would require\n",
      "│  │           │  ├─ \u001b[32mfontconfig >=2.13.0,<3.0a0 \u001b[0m with the potential options\n",
      "│  │           │  │  ├─ \u001b[32mfontconfig 2.14.2\u001b[0m would require\n",
      "│  │           │  │  │  └─ \u001b[32mfreetype >=2.12.1,<3.0a0 \u001b[0m, which can be installed;\n",
      "│  │           │  │  ├─ \u001b[32mfontconfig [2.13.0|2.13.1]\u001b[0m would require\n",
      "│  │           │  │  │  └─ \u001b[32mlibuuid >=1.0.3,<2.0a0 \u001b[0m, which can be installed;\n",
      "│  │           │  │  ├─ \u001b[32mfontconfig 2.14.1\u001b[0m would require\n",
      "│  │           │  │  │  └─ \u001b[32mlibuuid >=1.41.5,<2.0a0 \u001b[0m, which can be installed;\n",
      "│  │           │  │  └─ \u001b[32mfontconfig 2.14.1\u001b[0m would require\n",
      "│  │           │  │     └─ \u001b[32mfreetype >=2.10.4,<3.0a0 \u001b[0m, which can be installed;\n",
      "│  │           │  └─ \u001b[31mopenssl >=1.0.2o,<1.0.3a \u001b[0m, which conflicts with any installable versions previously reported;\n",
      "│  │           ├─ \u001b[31mqt 5.6.3\u001b[0m would require\n",
      "│  │           │  ├─ \u001b[32mfontconfig >=2.13.0,<3.0a0 \u001b[0m, which can be installed (as previously explained);\n",
      "│  │           │  └─ \u001b[31mopenssl >=1.0.2p,<1.0.3a \u001b[0m, which conflicts with any installable versions previously reported;\n",
      "│  │           ├─ \u001b[32mqt [5.6.3|5.9.7]\u001b[0m would require\n",
      "│  │           │  ├─ \u001b[32mfontconfig >=2.13.0,<3.0a0 \u001b[0m, which can be installed (as previously explained);\n",
      "│  │           │  └─ \u001b[32micu >=58.2,<59.0a0 \u001b[0m, which can be installed;\n",
      "│  │           └─ \u001b[31mqt 5.9.6\u001b[0m would require\n",
      "│  │              ├─ \u001b[32mfontconfig >=2.13.0,<3.0a0 \u001b[0m, which can be installed (as previously explained);\n",
      "│  │              └─ \u001b[31mopenssl 1.0.* \u001b[0m, which conflicts with any installable versions previously reported;\n",
      "│  ├─ \u001b[32mmatplotlib [3.5.0|3.5.1|...|3.8.0]\u001b[0m would require\n",
      "│  │  └─ \u001b[32mpython >=3.10,<3.11.0a0 \u001b[0m, which can be installed;\n",
      "│  ├─ \u001b[32mmatplotlib [3.1.1|3.1.2|...|3.7.2]\u001b[0m would require\n",
      "│  │  └─ \u001b[32mpython >=3.8,<3.9.0a0 \u001b[0m, which can be installed;\n",
      "│  └─ \u001b[32mmatplotlib [3.3.4|3.4.2|...|3.8.0]\u001b[0m would require\n",
      "│     └─ \u001b[32mpython >=3.9,<3.10.0a0 \u001b[0m, which can be installed;\n",
      "├─ \u001b[31mnumpy 1.21.4 \u001b[0m does not exist (perhaps a typo or a missing channel);\n",
      "└─ \u001b[32mseaborn 0.9.0 \u001b[0m is installable with the potential options\n",
      "   ├─ \u001b[32mseaborn 0.9.0\u001b[0m would require\n",
      "   │  ├─ \u001b[32mmatplotlib >=1.4.3 \u001b[0m with the potential options\n",
      "   │  │  ├─ \u001b[32mmatplotlib [2.2.2|3.1.2|...|3.5.3]\u001b[0m, which can be installed (as previously explained);\n",
      "   │  │  ├─ \u001b[32mmatplotlib [3.5.0|3.5.1|...|3.8.0]\u001b[0m, which can be installed (as previously explained);\n",
      "   │  │  ├─ \u001b[32mmatplotlib [3.1.1|3.1.2|...|3.7.2]\u001b[0m, which can be installed (as previously explained);\n",
      "   │  │  ├─ \u001b[32mmatplotlib [3.3.4|3.4.2|...|3.8.0]\u001b[0m, which can be installed (as previously explained);\n",
      "   │  │  ├─ \u001b[32mmatplotlib [2.0.2|2.1.0|...|2.2.3]\u001b[0m would require\n",
      "   │  │  │  └─ \u001b[32mpython >=2.7,<2.8.0a0 \u001b[0m, which can be installed;\n",
      "   │  │  ├─ \u001b[32mmatplotlib [2.0.2|2.1.0|...|3.0.0]\u001b[0m would require\n",
      "   │  │  │  └─ \u001b[32mpython >=3.5,<3.6.0a0 \u001b[0m, which can be installed;\n",
      "   │  │  ├─ \u001b[32mmatplotlib [2.0.2|2.1.0|...|3.3.4]\u001b[0m would require\n",
      "   │  │  │  └─ \u001b[32mpython >=3.6,<3.7.0a0 \u001b[0m, which can be installed;\n",
      "   │  │  ├─ \u001b[32mmatplotlib [2.2.3|3.0.0|...|3.1.2]\u001b[0m would require\n",
      "   │  │  │  └─ \u001b[32mpyqt 5.9.* \u001b[0m, which can be installed (as previously explained);\n",
      "   │  │  ├─ \u001b[32mmatplotlib [3.6.2|3.7.1|3.7.2|3.8.0]\u001b[0m would require\n",
      "   │  │  │  └─ \u001b[32mpython >=3.11,<3.12.0a0 \u001b[0m, which can be installed;\n",
      "   │  │  └─ \u001b[32mmatplotlib 3.8.0\u001b[0m would require\n",
      "   │  │     └─ \u001b[32mpython >=3.12,<3.13.0a0 \u001b[0m, which can be installed;\n",
      "   │  └─ \u001b[32mpython [ |>=3.7,<3.8.0a0 ]\u001b[0m with the potential options\n",
      "   │     ├─ \u001b[32mpython [3.10.0|3.10.10|...|3.10.9]\u001b[0m, which can be installed;\n",
      "   │     ├─ \u001b[32mpython [3.11.0|3.11.2|...|3.11.8]\u001b[0m, which can be installed;\n",
      "   │     ├─ \u001b[32mpython [3.8.0|3.8.1|...|3.8.8]\u001b[0m, which can be installed;\n",
      "   │     ├─ \u001b[32mpython [3.9.0|3.9.1|...|3.9.7]\u001b[0m, which can be installed;\n",
      "   │     ├─ \u001b[32mpython [2.7.13|2.7.14|...|2.7.18]\u001b[0m, which can be installed;\n",
      "   │     ├─ \u001b[32mpython [3.12.0|3.12.1|3.12.2]\u001b[0m, which can be installed;\n",
      "   │     ├─ \u001b[32mpython [3.5.4|3.5.5|3.5.6]\u001b[0m, which can be installed;\n",
      "   │     ├─ \u001b[32mpython [3.6.10|3.6.12|...|3.6.9]\u001b[0m, which can be installed;\n",
      "   │     ├─ \u001b[32mpython 3.7.12\u001b[0m would require\n",
      "   │     │  └─ \u001b[32mopenssl >=1.1.1l,<1.1.2a \u001b[0m, which can be installed;\n",
      "   │     ├─ \u001b[32mpython [3.7.0|3.7.1|...|3.7.9]\u001b[0m, which can be installed;\n",
      "   │     └─ \u001b[32mpython 3.7.7\u001b[0m would require\n",
      "   │        └─ \u001b[32mopenssl >=1.1.1e,<1.1.2a \u001b[0m, which can be installed;\n",
      "   ├─ \u001b[32mseaborn 0.9.0\u001b[0m would require\n",
      "   │  └─ \u001b[32mpython >=2.7,<2.8.0a0 \u001b[0m, which can be installed;\n",
      "   ├─ \u001b[32mseaborn 0.9.0\u001b[0m would require\n",
      "   │  └─ \u001b[32mpython >=3.5,<3.6.0a0 \u001b[0m, which can be installed;\n",
      "   └─ \u001b[32mseaborn 0.9.0\u001b[0m would require\n",
      "      └─ \u001b[32mpython >=3.6,<3.7.0a0 \u001b[0m, which can be installed.\n"
     ]
    }
   ],
   "source": [
    "!mamba install -qy pandas==1.3.4 numpy==1.21.4 seaborn==0.9.0 matplotlib==3.5.0 scikit-learn==0.20.1"
   ]
  },
  {
   "cell_type": "code",
   "execution_count": 2,
   "id": "45dbd8d3-27c1-4f05-a8eb-17484963caf1",
   "metadata": {
    "tags": []
   },
   "outputs": [
    {
     "name": "stdout",
     "output_type": "stream",
     "text": [
      "Requirement already satisfied: torch in /home/jupyterlab/conda/envs/python/lib/python3.7/site-packages (1.13.1+cpu)\n",
      "Requirement already satisfied: typing-extensions in /home/jupyterlab/conda/envs/python/lib/python3.7/site-packages (from torch) (4.5.0)\n"
     ]
    }
   ],
   "source": [
    "!pip install torch"
   ]
  },
  {
   "cell_type": "code",
   "execution_count": 3,
   "id": "878acc46-9724-4696-ba9d-220e1c7e4c5c",
   "metadata": {
    "tags": []
   },
   "outputs": [
    {
     "name": "stdout",
     "output_type": "stream",
     "text": [
      "Requirement already satisfied: torch in /home/jupyterlab/conda/envs/python/lib/python3.7/site-packages (1.13.1+cpu)\n",
      "Requirement already satisfied: typing-extensions in /home/jupyterlab/conda/envs/python/lib/python3.7/site-packages (from torch) (4.5.0)\n"
     ]
    }
   ],
   "source": [
    "!pip install --upgrade torch"
   ]
  },
  {
   "cell_type": "code",
   "execution_count": 4,
   "id": "5bdc1f6e-d99c-4a90-bc02-3675287934d8",
   "metadata": {
    "tags": []
   },
   "outputs": [],
   "source": [
    "!pip install -q transformers"
   ]
  },
  {
   "cell_type": "code",
   "execution_count": 5,
   "id": "09bcb77e-d8e7-42d3-ab21-a3d273a6b715",
   "metadata": {
    "tags": []
   },
   "outputs": [
    {
     "name": "stdout",
     "output_type": "stream",
     "text": [
      "Requirement already satisfied: datasets in /home/jupyterlab/conda/envs/python/lib/python3.7/site-packages (2.13.2)\n",
      "Requirement already satisfied: evaluate in /home/jupyterlab/conda/envs/python/lib/python3.7/site-packages (0.4.1)\n",
      "Requirement already satisfied: transformers[sentencepiece] in /home/jupyterlab/conda/envs/python/lib/python3.7/site-packages (4.30.2)\n",
      "Requirement already satisfied: numpy>=1.17 in /home/jupyterlab/conda/envs/python/lib/python3.7/site-packages (from datasets) (1.21.6)\n",
      "Requirement already satisfied: pyarrow>=8.0.0 in /home/jupyterlab/conda/envs/python/lib/python3.7/site-packages (from datasets) (12.0.1)\n",
      "Requirement already satisfied: dill<0.3.7,>=0.3.0 in /home/jupyterlab/conda/envs/python/lib/python3.7/site-packages (from datasets) (0.3.6)\n",
      "Requirement already satisfied: pandas in /home/jupyterlab/conda/envs/python/lib/python3.7/site-packages (from datasets) (1.3.5)\n",
      "Requirement already satisfied: requests>=2.19.0 in /home/jupyterlab/conda/envs/python/lib/python3.7/site-packages (from datasets) (2.29.0)\n",
      "Requirement already satisfied: tqdm>=4.62.1 in /home/jupyterlab/conda/envs/python/lib/python3.7/site-packages (from datasets) (4.66.2)\n",
      "Requirement already satisfied: xxhash in /home/jupyterlab/conda/envs/python/lib/python3.7/site-packages (from datasets) (3.4.1)\n",
      "Requirement already satisfied: multiprocess in /home/jupyterlab/conda/envs/python/lib/python3.7/site-packages (from datasets) (0.70.14)\n",
      "Requirement already satisfied: fsspec[http]>=2021.11.1 in /home/jupyterlab/conda/envs/python/lib/python3.7/site-packages (from datasets) (2023.1.0)\n",
      "Requirement already satisfied: aiohttp in /home/jupyterlab/conda/envs/python/lib/python3.7/site-packages (from datasets) (3.8.6)\n",
      "Requirement already satisfied: huggingface-hub<1.0.0,>=0.11.0 in /home/jupyterlab/conda/envs/python/lib/python3.7/site-packages (from datasets) (0.16.4)\n",
      "Requirement already satisfied: packaging in /home/jupyterlab/conda/envs/python/lib/python3.7/site-packages (from datasets) (23.1)\n",
      "Requirement already satisfied: pyyaml>=5.1 in /home/jupyterlab/conda/envs/python/lib/python3.7/site-packages (from datasets) (6.0)\n",
      "Requirement already satisfied: importlib-metadata in /home/jupyterlab/conda/envs/python/lib/python3.7/site-packages (from datasets) (4.11.4)\n",
      "Requirement already satisfied: responses<0.19 in /home/jupyterlab/conda/envs/python/lib/python3.7/site-packages (from evaluate) (0.18.0)\n",
      "Requirement already satisfied: filelock in /home/jupyterlab/conda/envs/python/lib/python3.7/site-packages (from transformers[sentencepiece]) (3.12.2)\n",
      "Requirement already satisfied: regex!=2019.12.17 in /home/jupyterlab/conda/envs/python/lib/python3.7/site-packages (from transformers[sentencepiece]) (2023.12.25)\n",
      "Requirement already satisfied: tokenizers!=0.11.3,<0.14,>=0.11.1 in /home/jupyterlab/conda/envs/python/lib/python3.7/site-packages (from transformers[sentencepiece]) (0.13.3)\n",
      "Requirement already satisfied: safetensors>=0.3.1 in /home/jupyterlab/conda/envs/python/lib/python3.7/site-packages (from transformers[sentencepiece]) (0.4.2)\n",
      "Requirement already satisfied: sentencepiece!=0.1.92,>=0.1.91 in /home/jupyterlab/conda/envs/python/lib/python3.7/site-packages (from transformers[sentencepiece]) (0.2.0)\n",
      "Requirement already satisfied: protobuf<=3.20.3 in /home/jupyterlab/conda/envs/python/lib/python3.7/site-packages (from transformers[sentencepiece]) (3.20.3)\n",
      "Requirement already satisfied: attrs>=17.3.0 in /home/jupyterlab/conda/envs/python/lib/python3.7/site-packages (from aiohttp->datasets) (23.1.0)\n",
      "Requirement already satisfied: charset-normalizer<4.0,>=2.0 in /home/jupyterlab/conda/envs/python/lib/python3.7/site-packages (from aiohttp->datasets) (3.1.0)\n",
      "Requirement already satisfied: multidict<7.0,>=4.5 in /home/jupyterlab/conda/envs/python/lib/python3.7/site-packages (from aiohttp->datasets) (6.0.5)\n",
      "Requirement already satisfied: async-timeout<5.0,>=4.0.0a3 in /home/jupyterlab/conda/envs/python/lib/python3.7/site-packages (from aiohttp->datasets) (4.0.3)\n",
      "Requirement already satisfied: yarl<2.0,>=1.0 in /home/jupyterlab/conda/envs/python/lib/python3.7/site-packages (from aiohttp->datasets) (1.9.4)\n",
      "Requirement already satisfied: frozenlist>=1.1.1 in /home/jupyterlab/conda/envs/python/lib/python3.7/site-packages (from aiohttp->datasets) (1.3.3)\n",
      "Requirement already satisfied: aiosignal>=1.1.2 in /home/jupyterlab/conda/envs/python/lib/python3.7/site-packages (from aiohttp->datasets) (1.3.1)\n",
      "Requirement already satisfied: asynctest==0.13.0 in /home/jupyterlab/conda/envs/python/lib/python3.7/site-packages (from aiohttp->datasets) (0.13.0)\n",
      "Requirement already satisfied: typing-extensions>=3.7.4 in /home/jupyterlab/conda/envs/python/lib/python3.7/site-packages (from aiohttp->datasets) (4.5.0)\n",
      "Requirement already satisfied: idna<4,>=2.5 in /home/jupyterlab/conda/envs/python/lib/python3.7/site-packages (from requests>=2.19.0->datasets) (3.4)\n",
      "Requirement already satisfied: urllib3<1.27,>=1.21.1 in /home/jupyterlab/conda/envs/python/lib/python3.7/site-packages (from requests>=2.19.0->datasets) (1.26.15)\n",
      "Requirement already satisfied: certifi>=2017.4.17 in /home/jupyterlab/conda/envs/python/lib/python3.7/site-packages (from requests>=2.19.0->datasets) (2023.5.7)\n",
      "Requirement already satisfied: zipp>=0.5 in /home/jupyterlab/conda/envs/python/lib/python3.7/site-packages (from importlib-metadata->datasets) (3.15.0)\n",
      "Requirement already satisfied: python-dateutil>=2.7.3 in /home/jupyterlab/conda/envs/python/lib/python3.7/site-packages (from pandas->datasets) (2.8.2)\n",
      "Requirement already satisfied: pytz>=2017.3 in /home/jupyterlab/conda/envs/python/lib/python3.7/site-packages (from pandas->datasets) (2023.3)\n",
      "Requirement already satisfied: six>=1.5 in /home/jupyterlab/conda/envs/python/lib/python3.7/site-packages (from python-dateutil>=2.7.3->pandas->datasets) (1.16.0)\n"
     ]
    }
   ],
   "source": [
    "!pip install datasets evaluate transformers[sentencepiece]"
   ]
  },
  {
   "cell_type": "code",
   "execution_count": 6,
   "id": "b90f5052-931b-4af9-82be-8daaae8882f4",
   "metadata": {
    "tags": []
   },
   "outputs": [
    {
     "name": "stdout",
     "output_type": "stream",
     "text": [
      "Requirement already satisfied: sacremoses in /home/jupyterlab/conda/envs/python/lib/python3.7/site-packages (0.0.53)\n",
      "Requirement already satisfied: regex in /home/jupyterlab/conda/envs/python/lib/python3.7/site-packages (from sacremoses) (2023.12.25)\n",
      "Requirement already satisfied: six in /home/jupyterlab/conda/envs/python/lib/python3.7/site-packages (from sacremoses) (1.16.0)\n",
      "Requirement already satisfied: click in /home/jupyterlab/conda/envs/python/lib/python3.7/site-packages (from sacremoses) (8.1.3)\n",
      "Requirement already satisfied: joblib in /home/jupyterlab/conda/envs/python/lib/python3.7/site-packages (from sacremoses) (1.3.2)\n",
      "Requirement already satisfied: tqdm in /home/jupyterlab/conda/envs/python/lib/python3.7/site-packages (from sacremoses) (4.66.2)\n",
      "Requirement already satisfied: importlib-metadata in /home/jupyterlab/conda/envs/python/lib/python3.7/site-packages (from click->sacremoses) (4.11.4)\n",
      "Requirement already satisfied: zipp>=0.5 in /home/jupyterlab/conda/envs/python/lib/python3.7/site-packages (from importlib-metadata->click->sacremoses) (3.15.0)\n",
      "Requirement already satisfied: typing-extensions>=3.6.4 in /home/jupyterlab/conda/envs/python/lib/python3.7/site-packages (from importlib-metadata->click->sacremoses) (4.5.0)\n"
     ]
    }
   ],
   "source": [
    "!pip install sacremoses"
   ]
  },
  {
   "cell_type": "code",
   "execution_count": 7,
   "id": "d0f735b1-b8ed-48f6-ae9b-703350d38e83",
   "metadata": {
    "tags": []
   },
   "outputs": [],
   "source": [
    "import warnings\n",
    "warnings.filterwarnings('ignore')"
   ]
  },
  {
   "cell_type": "code",
   "execution_count": 8,
   "id": "7b023a80-cb82-4a31-a4dd-040e0a8ac131",
   "metadata": {
    "tags": []
   },
   "outputs": [
    {
     "name": "stderr",
     "output_type": "stream",
     "text": [
      "/home/jupyterlab/conda/envs/python/lib/python3.7/site-packages/sklearn/utils/validation.py:37: DeprecationWarning: distutils Version classes are deprecated. Use packaging.version instead.\n",
      "  LARGE_SPARSE_SUPPORTED = LooseVersion(scipy_version) >= '0.14.0'\n"
     ]
    }
   ],
   "source": [
    "from transformers import pipeline\n",
    "from transformers import AutoTokenizer\n",
    "from transformers import AutoModel"
   ]
  },
  {
   "cell_type": "code",
   "execution_count": 9,
   "id": "5f1eb3c5-cb98-4d57-a2b0-a4a12e1a7327",
   "metadata": {
    "tags": []
   },
   "outputs": [
    {
     "name": "stderr",
     "output_type": "stream",
     "text": [
      "Xformers is not installed correctly. If you want to use memory_efficient_attention to accelerate training use the following command to install Xformers\n",
      "pip install xformers.\n"
     ]
    }
   ],
   "source": [
    "classifier = pipeline(\"sentiment-analysis\", model=\"distilbert-base-uncased-finetuned-sst-2-english\")"
   ]
  },
  {
   "cell_type": "code",
   "execution_count": 10,
   "id": "e9e95430-c786-48d6-a7c8-3d717cfdfcd7",
   "metadata": {
    "tags": []
   },
   "outputs": [
    {
     "data": {
      "text/plain": [
       "[{'label': 'POSITIVE', 'score': 0.9982457160949707}]"
      ]
     },
     "execution_count": 10,
     "metadata": {},
     "output_type": "execute_result"
    }
   ],
   "source": [
    "classifier(\"Having three long haired, heavy shedding dogs at home, I was pretty skeptical that this could hold up to all the hair and dirt they trek in, but this wonderful piece of tech has been nothing short of a godsend for me! \")"
   ]
  },
  {
   "cell_type": "code",
   "execution_count": 11,
   "id": "499ab3bb-89c5-49cf-81f7-2f62ffa145bd",
   "metadata": {
    "tags": []
   },
   "outputs": [
    {
     "data": {
      "text/plain": [
       "{'sequence': 'Exploratory Data Analysis is the first course in Machine Learning Program that introduces learners to the broad range of Machine Learning concepts, applications, challenges, and solutions, while utilizing interesting real-life datasets',\n",
       " 'labels': ['data analysis', 'art', 'natural science'],\n",
       " 'scores': [0.9957792162895203, 0.0026982580311596394, 0.0015224860981106758]}"
      ]
     },
     "execution_count": 11,
     "metadata": {},
     "output_type": "execute_result"
    }
   ],
   "source": [
    "classifier = pipeline(\"zero-shot-classification\", model=\"facebook/bart-large-mnli\")\n",
    "classifier(\n",
    "    \"Exploratory Data Analysis is the first course in Machine Learning Program that introduces learners to the broad range of Machine Learning concepts, applications, challenges, and solutions, while utilizing interesting real-life datasets\",\n",
    "    candidate_labels=[\"art\", \"natural science\", \"data analysis\"],\n",
    ")"
   ]
  },
  {
   "cell_type": "code",
   "execution_count": 12,
   "id": "b11b5914-bc65-411b-a219-81537068a3dd",
   "metadata": {
    "tags": []
   },
   "outputs": [
    {
     "name": "stderr",
     "output_type": "stream",
     "text": [
      "Setting `pad_token_id` to `eos_token_id`:50256 for open-end generation.\n"
     ]
    },
    {
     "data": {
      "text/plain": [
       "[{'generated_text': 'This course will teach you, along with many others, how to identify and combat terrorism by comparing terrorist videos to other videos of similar nature. You will also share and discuss your practice with others and how their practice is helping you by sharing your lessons and'}]"
      ]
     },
     "execution_count": 12,
     "metadata": {},
     "output_type": "execute_result"
    }
   ],
   "source": [
    "generator = pipeline(\"text-generation\", model=\"gpt2\")\n",
    "generator(\"This course will teach you\")"
   ]
  },
  {
   "cell_type": "code",
   "execution_count": 13,
   "id": "17f26517-f43f-4379-a76e-5934699a515f",
   "metadata": {
    "tags": []
   },
   "outputs": [
    {
     "data": {
      "text/plain": [
       "[{'score': 0.196197971701622,\n",
       "  'token': 30412,\n",
       "  'token_str': ' mathematical',\n",
       "  'sequence': 'This course will teach you all about mathematical models.'},\n",
       " {'score': 0.04052729904651642,\n",
       "  'token': 38163,\n",
       "  'token_str': ' computational',\n",
       "  'sequence': 'This course will teach you all about computational models.'},\n",
       " {'score': 0.03301800787448883,\n",
       "  'token': 27930,\n",
       "  'token_str': ' predictive',\n",
       "  'sequence': 'This course will teach you all about predictive models.'},\n",
       " {'score': 0.03194150701165199,\n",
       "  'token': 745,\n",
       "  'token_str': ' building',\n",
       "  'sequence': 'This course will teach you all about building models.'}]"
      ]
     },
     "execution_count": 13,
     "metadata": {},
     "output_type": "execute_result"
    }
   ],
   "source": [
    "unmasker = pipeline(\"fill-mask\", \"distilroberta-base\")\n",
    "unmasker(\"This course will teach you all about <mask> models.\", top_k=4)"
   ]
  },
  {
   "cell_type": "code",
   "execution_count": 14,
   "id": "a60d7771-d8d3-4932-8f16-54a3aa9b79dc",
   "metadata": {
    "tags": []
   },
   "outputs": [
    {
     "data": {
      "text/plain": [
       "[{'entity_group': 'PER',\n",
       "  'score': 0.9993105,\n",
       "  'word': 'Roberta',\n",
       "  'start': 11,\n",
       "  'end': 18},\n",
       " {'entity_group': 'ORG',\n",
       "  'score': 0.9976597,\n",
       "  'word': 'IBM Skills Network',\n",
       "  'start': 35,\n",
       "  'end': 53},\n",
       " {'entity_group': 'LOC',\n",
       "  'score': 0.99702173,\n",
       "  'word': 'Toronto',\n",
       "  'start': 57,\n",
       "  'end': 64}]"
      ]
     },
     "execution_count": 14,
     "metadata": {},
     "output_type": "execute_result"
    }
   ],
   "source": [
    "ner = pipeline(\"ner\", model=\"dbmdz/bert-large-cased-finetuned-conll03-english\", grouped_entities=True)\n",
    "ner(\"My name is Roberta and I work with IBM Skills Network in Toronto\")"
   ]
  },
  {
   "cell_type": "code",
   "execution_count": 15,
   "id": "ef46ae16-640e-4efd-aaf8-09a7bbd235b1",
   "metadata": {
    "tags": []
   },
   "outputs": [],
   "source": [
    "del ner"
   ]
  },
  {
   "cell_type": "code",
   "execution_count": 16,
   "id": "882572c8-0daa-4937-bd01-b96e6c10488f",
   "metadata": {
    "tags": []
   },
   "outputs": [
    {
     "data": {
      "text/plain": [
       "{'score': 0.8247062563896179, 'start': 48, 'end': 56, 'answer': 'Amazonia'}"
      ]
     },
     "execution_count": 16,
     "metadata": {},
     "output_type": "execute_result"
    }
   ],
   "source": [
    "qa_model = pipeline(\"question-answering\", model=\"distilbert-base-cased-distilled-squad\")\n",
    "question = \"Which name is also used to describe the Amazon rainforest in English?\"\n",
    "context = \"The Amazon rainforest, also known in English as Amazonia or the Amazon Jungle.\"\n",
    "qa_model(question = question, context = context)"
   ]
  },
  {
   "cell_type": "code",
   "execution_count": 17,
   "id": "b0f9482f-7ef8-4dda-9e2d-f76ade2a31f4",
   "metadata": {
    "tags": []
   },
   "outputs": [
    {
     "data": {
      "text/plain": [
       "[{'summary_text': ' Exploratory Data Analysis is the first course in Machine Learning Program that introduces learners to the broad range of Machine Learning concepts, applications, challenges, and solutions . EDA is a visual and statistical process that allows us to take a glimpse into the data before the analysis . It lays foundation for the analysis so our results go along with our expectations .'}]"
      ]
     },
     "execution_count": 17,
     "metadata": {},
     "output_type": "execute_result"
    }
   ],
   "source": [
    "summarizer = pipeline(\"summarization\", model=\"sshleifer/distilbart-cnn-12-6\")\n",
    "summarizer(\n",
    "    \"\"\"\n",
    "Exploratory Data Analysis is the first course in Machine Learning Program that introduces learners to the broad range of Machine Learning concepts, applications, challenges, and solutions, while utilizing interesting real-life datasets. So, what is EDA and why is it important to perform it before we dive into any analysis?\n",
    "EDA is a visual and statistical process that allows us to take a glimpse into the data before the analysis. It lets us test the assumptions that we might have about the data, proving or disproving our prior believes and biases. It lays foundation for the analysis, so our results go along with our expectations. In a way, it’s a quality check for our predictions.\n",
    "As any data scientist would agree, the most challenging part in any data analysis is to obtain a good quality data to work with. Nothing is served to us on a silver plate, data comes in different shapes and formats. It can be structured and unstructured, it may contain errors or be biased, it may have missing fields, it can have different formats than what an untrained eye would perceive. For example, when we import some data, very often it would contain a time stamp. To a human it is understandable format that can interpreted. But to a machine, it is not interpretable, so it needs to be told what that means, the data needs to be transformed into simple numbers first. There are also different date-time conventions depending on a country (i.e., Canadian versus USA), metric versus imperial systems, and many other data features that need to be recognized before we start doing the analysis. Therefore, the first step before performing any analysis – is get really aquatinted with your data!\n",
    "This course will teach you to ‘see’ and to ‘feel’ the data as well as to transform it into analysis-ready format. It is introductory level course, so no prior knowledge is required, and it is a good starting point if you are interested in getting into the world of Machine Learning. The only thing that is needed is some computer with internet, your curiosity and eagerness to learn and to apply acquired knowledge.  If you live in Canada, you might be interested about gasoline prices in different cities or if you are an insurance actuary you need to analyze the financial risks that you will take based on your clients information. Whatever is the case, you will be able to do your own analysis, and confirm or disprove some of the existing information.\n",
    "The course contains videos and reading materials, as well as well as a lot of interactive practice labs that learners can explore and apply the skills learned. It will allow you to use Python language in Jupyter Notebook, a cloud-based skills network environment that is pre-set for you with all available to be downloaded packages and libraries. It will introduce you to the most common visualization libraries such as Pandas, Seaborn, and Matplotlib to demonstrate various EDA techniques with some real-life datasets.\n",
    "\n",
    "\"\"\"\n",
    ")"
   ]
  },
  {
   "cell_type": "code",
   "execution_count": 18,
   "id": "3e82d295-4f0c-4fc8-baf5-9ae4d579af5d",
   "metadata": {
    "tags": []
   },
   "outputs": [],
   "source": [
    "del summarizer"
   ]
  },
  {
   "cell_type": "code",
   "execution_count": 19,
   "id": "82b5543c-1185-48d1-b05f-7cf5e217f957",
   "metadata": {
    "tags": []
   },
   "outputs": [
    {
     "data": {
      "text/plain": [
       "[{'translation_text': 'Quel est votre âge ?'}]"
      ]
     },
     "execution_count": 19,
     "metadata": {},
     "output_type": "execute_result"
    }
   ],
   "source": [
    "en_fr_translator = pipeline(\"translation_en_to_fr\", model=\"t5-small\")\n",
    "en_fr_translator(\"How old are you?\")"
   ]
  },
  {
   "cell_type": "code",
   "execution_count": 20,
   "id": "c12c7107-7eb6-46ba-9aa3-e9ad29e31d4f",
   "metadata": {
    "tags": []
   },
   "outputs": [
    {
     "data": {
      "text/plain": [
       "[{'translation_text': 'Data science is the best.'}]"
      ]
     },
     "execution_count": 20,
     "metadata": {},
     "output_type": "execute_result"
    }
   ],
   "source": [
    "translator = pipeline(\"translation\", model=\"Helsinki-NLP/opus-mt-fr-en\")\n",
    "translator(\"La science des données est la meilleure.\")"
   ]
  },
  {
   "cell_type": "code",
   "execution_count": 21,
   "id": "7abe8606-3eec-4024-83fa-b4c487984800",
   "metadata": {
    "tags": []
   },
   "outputs": [
    {
     "data": {
      "text/plain": [
       "[{'label': 'LABEL_1', 'score': 0.5272255539894104}]"
      ]
     },
     "execution_count": 21,
     "metadata": {},
     "output_type": "execute_result"
    }
   ],
   "source": [
    "specific_model = pipeline(model=\"cardiffnlp/twitter-roberta-base-sentiment\")\n",
    "data = \"Artificial intelligence and automation are already causing friction in the workforce. Should schools revamp existing programs for topics like #AI, or are new research areas required?\"\n",
    "specific_model(data)"
   ]
  },
  {
   "cell_type": "code",
   "execution_count": 22,
   "id": "d116b4ce-19c1-4f86-98a2-0ab981694c47",
   "metadata": {
    "tags": []
   },
   "outputs": [
    {
     "name": "stderr",
     "output_type": "stream",
     "text": [
      "No model was supplied, defaulted to distilbert-base-uncased-finetuned-sst-2-english and revision af0f99b (https://huggingface.co/distilbert-base-uncased-finetuned-sst-2-english).\n",
      "Using a pipeline without specifying a model name and revision in production is not recommended.\n"
     ]
    },
    {
     "data": {
      "text/plain": [
       "[{'label': 'NEGATIVE', 'score': 0.9989722967147827}]"
      ]
     },
     "execution_count": 22,
     "metadata": {},
     "output_type": "execute_result"
    }
   ],
   "source": [
    "original_model = pipeline(\"sentiment-analysis\")\n",
    "data = \"Artificial intelligence and automation are already causing friction in the workforce. Should schools revamp existing programs for topics like #AI, or are new research areas required?\"\n",
    "original_model(data)"
   ]
  },
  {
   "cell_type": "code",
   "execution_count": null,
   "id": "f68f56c1-8aa0-4f31-b9b1-a603cf21c4b6",
   "metadata": {
    "tags": []
   },
   "outputs": [],
   "source": [
    "classifier = pipeline(\"zero-shot-classification\", model=\"facebook/bart-large-mnli\")\n",
    "classifier(\n",
    "    \"I love travelling and learning new cultures\",\n",
    "    candidate_labels=[\"art\", \"education\", \"travel\"],\n",
    ")"
   ]
  },
  {
   "cell_type": "code",
   "execution_count": null,
   "id": "8898ee15-7a30-4922-81ed-f950193586c4",
   "metadata": {
    "tags": []
   },
   "outputs": [],
   "source": [
    "generator = pipeline('text-generation', model = 'gpt2')\n",
    "generator(\"Hello, I'm a language model\", max_length = 30, num_return_sequences=3)"
   ]
  },
  {
   "cell_type": "code",
   "execution_count": null,
   "id": "e304f0f4-4dcf-4701-bdcd-6f76b91f0ee8",
   "metadata": {
    "tags": []
   },
   "outputs": [],
   "source": [
    "nlp = pipeline(\"ner\", model=\"Jean-Baptiste/camembert-ner\", grouped_entities=True)\n",
    "example = \"Her name is Anjela and she lives in Seoul.\"\n",
    "\n",
    "ner_results = nlp(example)\n",
    "print(ner_results)"
   ]
  },
  {
   "cell_type": "code",
   "execution_count": null,
   "id": "1b6bff56-15b8-48b0-8396-9e6acab87614",
   "metadata": {
    "tags": []
   },
   "outputs": [],
   "source": [
    "question_answerer = pipeline(\"question-answering\", model=\"distilbert-base-cased-distilled-squad\")\n",
    "question_answerer(\n",
    "    question=\"Which lake is one of the five Great Lakes of North America?\",\n",
    "    context=\"Lake Ontario is one of the five Great Lakes of North America. It is surrounded on the north, west, and southwest by the Canadian province of Ontario, and on the south and east by the U.S. state of New York, whose water boundaries, along the international border, meet in the middle of the lake.\",\n",
    ")"
   ]
  },
  {
   "cell_type": "code",
   "execution_count": null,
   "id": "dcd6ba5e-49ae-41de-bfbd-1cee8366ce82",
   "metadata": {
    "tags": []
   },
   "outputs": [],
   "source": [
    "summarizer = pipeline(\"summarization\", model=\"sshleifer/distilbart-cnn-12-6\",  max_length=59)\n",
    "summarizer(\n",
    "    \"\"\"\n",
    "Lake Superior in central North America is the largest freshwater lake in the world by surface area and the third-largest by volume, holding 10% of the world's surface fresh water. The northern and westernmost of the Great Lakes of North America, it straddles the Canada–United States border with the province of Ontario to the north, and the states of Minnesota to the northwest and Wisconsin and Michigan to the south. It drains into Lake Huron via St. Marys River and through the lower Great Lakes to the St. Lawrence River and the Atlantic Ocean.\n",
    "\"\"\"\n",
    ")"
   ]
  },
  {
   "cell_type": "code",
   "execution_count": null,
   "id": "978c145f-34d5-4970-ac3d-94c4cc391cb9",
   "metadata": {
    "tags": []
   },
   "outputs": [],
   "source": [
    "translator = pipeline(\"translation_en_to_de\", model=\"t5-small\")\n",
    "print(translator(\"New York is my favourite city\", max_length=40))"
   ]
  },
  {
   "cell_type": "code",
   "execution_count": null,
   "id": "a31bcbb8-57d8-4012-b255-4b699ffcbeda",
   "metadata": {},
   "outputs": [],
   "source": []
  }
 ],
 "metadata": {
  "kernelspec": {
   "display_name": "Python",
   "language": "python",
   "name": "conda-env-python-py"
  },
  "language_info": {
   "codemirror_mode": {
    "name": "ipython",
    "version": 3
   },
   "file_extension": ".py",
   "mimetype": "text/x-python",
   "name": "python",
   "nbconvert_exporter": "python",
   "pygments_lexer": "ipython3",
   "version": "3.7.12"
  }
 },
 "nbformat": 4,
 "nbformat_minor": 5
}
